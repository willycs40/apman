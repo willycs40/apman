{
 "metadata": {
  "name": "",
  "signature": "sha256:9c8a0503f0f767f90603cf831ca2f6ab95ac2902416b13a0f3d63eef6e542fd3"
 },
 "nbformat": 3,
 "nbformat_minor": 0,
 "worksheets": [
  {
   "cells": [
    {
     "cell_type": "markdown",
     "metadata": {},
     "source": [
      "# Using ApMan\n",
      "This notebook demonstrates how to use apman from code. Typically, the apman_run command line script is used to execute packages - for an example of this, please refer to 'CLI Example.ipynb'\n"
     ]
    },
    {
     "cell_type": "markdown",
     "metadata": {},
     "source": [
      "### Import apman, and set up logging to see outputs"
     ]
    },
    {
     "cell_type": "code",
     "collapsed": false,
     "input": [
      "from apman import packagemanager as pm\n",
      "import logging"
     ],
     "language": "python",
     "metadata": {},
     "outputs": [],
     "prompt_number": 1
    },
    {
     "cell_type": "code",
     "collapsed": false,
     "input": [
      "import logging\n",
      "logger = logging.getLogger()\n",
      "logger.setLevel(logging.DEBUG)"
     ],
     "language": "python",
     "metadata": {},
     "outputs": [],
     "prompt_number": 2
    },
    {
     "cell_type": "markdown",
     "metadata": {},
     "source": [
      "Show an example apman config file, and script"
     ]
    },
    {
     "cell_type": "code",
     "collapsed": false,
     "input": [
      "package_config_path = '../tests/test_configs/error/config'"
     ],
     "language": "python",
     "metadata": {},
     "outputs": [],
     "prompt_number": 3
    },
    {
     "cell_type": "code",
     "collapsed": false,
     "input": [
      "with open(package_config_path, 'r') as fin:\n",
      "    print fin.read()"
     ],
     "language": "python",
     "metadata": {},
     "outputs": [
      {
       "output_type": "stream",
       "stream": "stdout",
       "text": [
        "{\n",
        "    \"id\":\"test\",\n",
        "    \"description\": \"test\",\n",
        "    \"timeout\": 3,\n",
        "    \"command\": \"python script.py\"\n",
        "}\n"
       ]
      }
     ],
     "prompt_number": 4
    },
    {
     "cell_type": "markdown",
     "metadata": {},
     "source": [
      "### Load the package config as an apman package object"
     ]
    },
    {
     "cell_type": "code",
     "collapsed": false,
     "input": [
      "package = pm.PackageManager('../tests/test_configs/error/config')"
     ],
     "language": "python",
     "metadata": {},
     "outputs": [],
     "prompt_number": 5
    },
    {
     "cell_type": "markdown",
     "metadata": {},
     "source": [
      "### Execute the package"
     ]
    },
    {
     "cell_type": "code",
     "collapsed": false,
     "input": [
      "package.run_package()"
     ],
     "language": "python",
     "metadata": {},
     "outputs": [
      {
       "output_type": "stream",
       "stream": "stderr",
       "text": [
        "DEBUG:root:Logging package start to DB.\n"
       ]
      },
      {
       "output_type": "stream",
       "stream": "stderr",
       "text": [
        "ERROR:root:Cannot log package start to ApMan DB Log.\n"
       ]
      },
      {
       "output_type": "stream",
       "stream": "stderr",
       "text": [
        "DEBUG:root:Executing package command.\n"
       ]
      },
      {
       "output_type": "stream",
       "stream": "stderr",
       "text": [
        "DEBUG:root:Logging package end to DB.\n"
       ]
      },
      {
       "output_type": "stream",
       "stream": "stderr",
       "text": [
        "ERROR:root:Cannot log package end to ApMan DB Log.\n"
       ]
      }
     ],
     "prompt_number": 6
    },
    {
     "cell_type": "markdown",
     "metadata": {},
     "source": [
      "### Get the package results, and print them"
     ]
    },
    {
     "cell_type": "code",
     "collapsed": false,
     "input": [
      "summary, detail = package.get_notification_text()"
     ],
     "language": "python",
     "metadata": {},
     "outputs": [],
     "prompt_number": 7
    },
    {
     "cell_type": "code",
     "collapsed": false,
     "input": [
      "print(summary)"
     ],
     "language": "python",
     "metadata": {},
     "outputs": [
      {
       "output_type": "stream",
       "stream": "stdout",
       "text": [
        "Package (test) failed (runtime error)\n"
       ]
      }
     ],
     "prompt_number": 8
    },
    {
     "cell_type": "code",
     "collapsed": false,
     "input": [
      "print(detail)"
     ],
     "language": "python",
     "metadata": {},
     "outputs": [
      {
       "output_type": "stream",
       "stream": "stdout",
       "text": [
        "ID: test\n",
        "Timeout: 3\n",
        "Start: 2015-10-29 17:37:40.334000\n",
        "End: 2015-10-29 17:37:40.459000\n",
        "Result: failed (runtime error)\n",
        "Stdout: \n",
        "Stderr: Traceback (most recent call last):\r\n",
        "  File \"script.py\", line 3, in <module>\r\n",
        "    x = 1/0\r\n",
        "ZeroDivisionError: integer division or modulo by zero\r\n",
        "\n"
       ]
      }
     ],
     "prompt_number": 9
    },
    {
     "cell_type": "markdown",
     "metadata": {},
     "source": [
      "### Send a notification email to the apman admins and package owners"
     ]
    },
    {
     "cell_type": "code",
     "collapsed": false,
     "input": [
      "package.send_notification_email()"
     ],
     "language": "python",
     "metadata": {},
     "outputs": [
      {
       "output_type": "stream",
       "stream": "stderr",
       "text": [
        "DEBUG:root:Sending notification emails.\n"
       ]
      },
      {
       "output_type": "stream",
       "stream": "stderr",
       "text": [
        "INFO:root:Notification emails sent.\n"
       ]
      }
     ],
     "prompt_number": 10
    }
   ],
   "metadata": {}
  }
 ]
}